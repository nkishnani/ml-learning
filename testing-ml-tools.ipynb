{
 "cells": [
  {
   "cell_type": "markdown",
   "metadata": {},
   "source": [
    "# Testing Machine Learning & General `python` Tools\n",
    "\n",
    "This is a test notebook to see the capabilities of `pandas`, `numpy`, `matplotlib`, and largely the functionality of `jupyter notebook` in the grand scheme of data science and data analysis. I'm also using this `jupyter notebook` as a means of knowledge tracking during my internship at [CareerVillage](www.careervillage.org) during summer 2019.\n"
   ]
  },
  {
   "cell_type": "markdown",
   "metadata": {},
   "source": [
    "## Dependencies "
   ]
  },
  {
   "cell_type": "markdown",
   "metadata": {},
   "source": [
    "*Here are some common ML packages - `pandas`, `numpy`, and `matplotlib`*\n",
    "Small note on installing these if you haven't already. I was running into an issue in running \n",
    "\n",
    "` $ pip install pandas `\n",
    "\n",
    "and realized that in order to install python3 packages (which everyone should, really 🙂), you need to use the following:\n",
    "\n",
    "``` \n",
    "    $ pip3 install pandas \n",
    "    $ pip3 install numpy  \n",
    "    $ pip3 install matplotlib \n",
    "```"
   ]
  },
  {
   "cell_type": "code",
   "execution_count": 8,
   "metadata": {},
   "outputs": [],
   "source": [
    "import pandas as pd\n",
    "import numpy as np\n",
    "import matplotlib.pyplot as plt\n",
    "filename = \"cars.csv\""
   ]
  },
  {
   "cell_type": "code",
   "execution_count": 23,
   "metadata": {},
   "outputs": [
    {
     "name": "stdout",
     "output_type": "stream",
     "text": [
      "10\n",
      "9\n",
      "8\n",
      "7\n",
      "6\n",
      "5\n",
      "4\n",
      "3\n",
      "2\n",
      "1\n",
      "Liftoff!\n"
     ]
    }
   ],
   "source": [
    "# Testing shift enter functionality with classic liftoff problem\n",
    "for i in range(10, 0, -1):\n",
    "    print(i)\n",
    "print(\"Liftoff!\")"
   ]
  },
  {
   "cell_type": "code",
   "execution_count": 22,
   "metadata": {},
   "outputs": [
    {
     "name": "stdout",
     "output_type": "stream",
     "text": [
      "Car\n",
      "STRING\n",
      "Chevrolet Chevelle Malibu\n",
      "Buick Skylark 320\n",
      "Plymouth Satellite\n",
      "AMC Rebel SST\n",
      "Ford Torino\n",
      "Ford Galaxie 500\n",
      "Chevrolet Impala\n",
      "Plymouth Fury iii\n",
      "Pontiac Catalina\n",
      "AMC Ambassador DPL\n",
      "Citroen DS-21 Pallas\n",
      "Chevrolet Chevelle Concours (sw)\n",
      "Ford Torino (sw)\n",
      "Plymouth Satellite (sw)\n",
      "AMC Rebel SST (sw)\n",
      "Dodge Challenger SE\n",
      "Plymouth 'Cuda 340\n",
      "Ford Mustang Boss 302\n",
      "Chevrolet Monte Carlo\n",
      "Buick Estate Wagon (sw)\n",
      "Toyota Corolla Mark ii\n",
      "Plymouth Duster\n",
      "AMC Hornet\n",
      "Ford Maverick\n",
      "Datsun PL510\n",
      "Volkswagen 1131 Deluxe Sedan\n",
      "Peugeot 504\n",
      "Audi 100 LS\n",
      "Saab 99e\n",
      "BMW 2002\n",
      "AMC Gremlin\n",
      "Ford F250\n",
      "Chevy C20\n",
      "Dodge D200\n",
      "Hi 1200D\n",
      "Datsun PL510\n",
      "Chevrolet Vega 2300\n",
      "Toyota Corolla\n",
      "Ford Pinto\n",
      "Volkswagen Super Beetle 117\n",
      "AMC Gremlin\n",
      "Plymouth Satellite Custom\n",
      "Chevrolet Chevelle Malibu\n",
      "Ford Torino 500\n",
      "AMC Matador\n",
      "Chevrolet Impala\n",
      "Pontiac Catalina Brougham\n",
      "Ford Galaxie 500\n",
      "Plymouth Fury iii\n",
      "Dodge Monaco (sw)\n",
      "Ford Country Squire (sw)\n",
      "Pontiac Safari (sw)\n",
      "AMC Hornet Sportabout (sw)\n",
      "Chevrolet Vega (sw)\n",
      "Pontiac Firebird\n",
      "Ford Mustang\n",
      "Mercury Capri 2000\n",
      "Opel 1900\n",
      "Peugeot 304\n",
      "Fiat 124B\n",
      "Toyota Corolla 1200\n",
      "Datsun 1200\n",
      "Volkswagen Model 111\n",
      "Plymouth Cricket\n",
      "Toyota Corolla Hardtop\n",
      "Dodge Colt Hardtop\n",
      "Volkswagen Type 3\n",
      "Chevrolet Vega\n",
      "Ford Pinto Runabout\n",
      "Chevrolet Impala\n",
      "Pontiac Catalina\n",
      "Plymouth Fury III\n",
      "Ford Galaxie 500\n",
      "AMC Ambassador SST\n",
      "Mercury Marquis\n",
      "Buick LeSabre Custom\n",
      "Oldsmobile Delta 88 Royale\n",
      "Chrysler Newport Royal\n",
      "Mazda RX2 Coupe\n",
      "AMC Matador (sw)\n",
      "Chevrolet Chevelle Concours (sw)\n",
      "Ford Gran Torino (sw)\n",
      "Plymouth Satellite Custom (sw)\n",
      "Volvo 145e (sw)\n",
      "Volkswagen 411 (sw)\n",
      "Peugeot 504 (sw)\n",
      "Renault 12 (sw)\n",
      "Ford Pinto (sw)\n",
      "Datsun 510 (sw)\n",
      "Toyota Corolla Mark II (sw)\n",
      "Dodge Colt (sw)\n",
      "Toyota Corolla 1600 (sw)\n",
      "Buick Century 350\n",
      "AMC Matador\n",
      "Chevrolet Malibu\n",
      "Ford Gran Torino\n",
      "Dodge Coronet Custom\n",
      "Mercury Marquis Brougham\n",
      "Chevrolet Caprice Classic\n",
      "Ford LTD\n",
      "Plymouth Fury Gran Sedan\n",
      "Chrysler New Yorker Brougham\n",
      "Buick Electra 225 Custom\n",
      "AMC Ambassador Brougham\n",
      "Plymouth Valiant\n",
      "Chevrolet Nova Custom\n",
      "AMC Hornet\n",
      "Ford Maverick\n",
      "Plymouth Duster\n",
      "Volkswagen Super Beetle\n",
      "Chevrolet Impala\n",
      "Ford Country\n",
      "Plymouth Custom Suburb\n",
      "Oldsmobile Vista Cruiser\n",
      "AMC Gremlin\n",
      "Toyota Camry\n",
      "Chevrolet Vega\n",
      "Datsun 610\n",
      "Mazda RX3\n",
      "Ford Pinto\n",
      "Mercury Capri v6\n",
      "Fiat 124 Sport Coupe\n",
      "Chevrolet Monte Carlo S\n",
      "Pontiac Grand Prix\n",
      "Fiat 128\n",
      "Opel Manta\n",
      "Audi 100LS\n",
      "Volvo 144ea\n",
      "Dodge Dart Custom\n",
      "Saab 99le\n",
      "Toyota Mark II\n",
      "Oldsmobile Omega\n",
      "Plymouth Duster\n",
      "Ford Maverick\n",
      "AMC Hornet\n",
      "Chevrolet Nova\n",
      "Datsun B210\n",
      "Ford Pinto\n",
      "Toyota Corolla 1200\n",
      "Chevrolet Vega\n",
      "Chevrolet Chevelle Malibu Classic\n",
      "AMC Matador\n",
      "Plymouth Satellite Sebring\n",
      "Ford Gran Torino\n",
      "Buick Century Luxus (sw)\n",
      "Dodge Coronet Custom (sw)\n",
      "Ford Gran Torino (sw)\n",
      "AMC Matador (sw)\n",
      "Audi Fox\n",
      "Volkswagen Dasher\n",
      "Opel Manta\n",
      "Toyota Corolla\n",
      "Datsun 710\n",
      "Dodge Colt\n",
      "Fiat 128\n",
      "Fiat 124 TC\n",
      "Honda Civic\n",
      "Subaru\n",
      "Fiat x1.9\n",
      "Plymouth Valiant Custom\n",
      "Chevrolet Nova\n",
      "Mercury Monarch\n",
      "Ford Maverick\n",
      "Pontiac Catalina\n",
      "Chevrolet Bel Air\n",
      "Plymouth Grand Fury\n",
      "Ford LTD\n",
      "Buick Century\n",
      "Chevrolete Chevelle Malibu\n",
      "AMC Matador\n",
      "Plymouth Fury\n",
      "Buick Skyhawk\n",
      "Chevrolet Monza 2+2\n",
      "Ford Mustang II\n",
      "Toyota Corolla\n",
      "Ford Pinto\n",
      "AMC Gremlin\n",
      "Pontiac Astro\n",
      "Toyota Corolla\n",
      "Volkswagen Dasher\n",
      "Datsun 710\n",
      "Ford Pinto\n",
      "Volkswagen Rabbit\n",
      "AMC Pacer\n",
      "Audi 100LS\n",
      "Peugeot 504\n",
      "Volvo 244DL\n",
      "Saab 99LE\n",
      "Honda Civic CVCC\n",
      "Fiat 131\n",
      "Opel 1900\n",
      "Capri ii\n",
      "Dodge Colt\n",
      "Renault 12tl\n",
      "Chevrolet Chevelle Malibu Classic\n",
      "Dodge Coronet Brougham\n",
      "AMC Matador\n",
      "Ford Gran Torino\n",
      "Plymouth Valiant\n",
      "Chevrolet Nova\n",
      "Ford Maverick\n",
      "AMC Hornet\n",
      "Chevrolet Chevette\n",
      "Chevrolet Woody\n",
      "Volkswagen Rabbit\n",
      "Honda Civic\n",
      "Dodge Aspen SE\n",
      "Ford Grenada ghia\n",
      "Pontiac Ventura SJ\n",
      "AMC Pacer d/l\n",
      "Volkswagen Rabbit\n",
      "Datsun B-210\n",
      "Toyota Corolla\n",
      "Ford Pinto\n",
      "Volvo 245\n",
      "Plymouth Volare Premier v8\n",
      "Peugeot 504\n",
      "Toyota Mark II\n",
      "Mercedes-Benz 280s\n",
      "Cadillac Seville\n",
      "Chevrolet C10\n",
      "Ford F108\n",
      "Dodge D100\n",
      "Honda Accord CVCC\n",
      "Buick Opel Isuzu Deluxe\n",
      "Renault 5 GTL\n",
      "Plymouth Arrow GS\n",
      "Datsun F-10 Hatchback\n",
      "Chevrolet Caprice Classic\n",
      "Oldsmobile Cutlass Supreme\n",
      "Dodge Monaco Brougham\n",
      "Mercury Cougar Brougham\n",
      "Chevrolet Concours\n",
      "Buick Skylark\n",
      "Plymouth Volare Custom\n",
      "Ford Grenada\n",
      "Pontiac Grand Prix LJ\n",
      "Chevrolet Monte Carlo Landau\n",
      "Chrysler Cordoba\n",
      "Ford Thunderbird\n",
      "Volkswagen Rabbit Custom\n",
      "Pontiac Sunbird Coupe\n",
      "Toyota Corolla Liftback\n",
      "Ford Mustang II 2+2\n",
      "Chevrolet Chevette\n",
      "Dodge Colt m/m\n",
      "Subaru DL\n",
      "Volkswagen Dasher\n",
      "Datsun 810\n",
      "BMW 320i\n",
      "Mazda RX-4\n",
      "Volkswagen Rabbit Custom Diesel\n",
      "Ford Fiesta\n",
      "Mazda GLC Deluxe\n",
      "Datsun B210 GX\n",
      "Honda Civic CVCC\n",
      "Oldsmobile Cutlass Salon Brougham\n",
      "Dodge Diplomat\n",
      "Mercury Monarch ghia\n",
      "Pontiac Phoenix LJ\n",
      "Chevrolet Malibu\n",
      "Ford Fairmont (auto)\n",
      "Ford Fairmont (man)\n",
      "Plymouth Volare\n",
      "AMC Concord\n",
      "Buick Century Special\n",
      "Mercury Zephyr\n",
      "Dodge Aspen\n",
      "AMC Concord d/l\n",
      "Chevrolet Monte Carlo Landau\n",
      "Buick Regal Sport Coupe (turbo)\n",
      "Ford Futura\n",
      "Dodge Magnum XE\n",
      "Chevrolet Chevette\n",
      "Toyota Corolla\n",
      "Datsun 510\n",
      "Dodge Omni\n",
      "Toyota Celica GT Liftback\n",
      "Plymouth Sapporo\n",
      "Oldsmobile Starfire SX\n",
      "Datsun 200-SX\n",
      "Audi 5000\n",
      "Volvo 264gl\n",
      "Saab 99gle\n",
      "Peugeot 604sl\n",
      "Volkswagen Scirocco\n",
      "Honda Accord LX\n",
      "Pontiac Lemans V6\n",
      "Mercury Zephyr 6\n",
      "Ford Fairmont 4\n",
      "AMC Concord DL 6\n",
      "Dodge Aspen 6\n",
      "Chevrolet Caprice Classic\n",
      "Ford LTD Landau\n",
      "Mercury Grand Marquis\n",
      "Dodge St. Regis\n",
      "Buick Estate Wagon (sw)\n",
      "Ford Country Squire (sw)\n",
      "Chevrolet Malibu Classic (sw)\n",
      "Chrysler Lebaron Town @ Country (sw)\n",
      "Volkswagen Rabbit Custom\n",
      "Mazda GLC Deluxe\n",
      "Dodge Colt Hatchback Custom\n",
      "AMC Spirit DL\n",
      "Mercedes Benz 300d\n",
      "Cadillac Eldorado\n",
      "Peugeot 504\n",
      "Oldsmobile Cutlass Salon Brougham\n",
      "Plymouth Horizon\n",
      "Plymouth Horizon TC3\n",
      "Datsun 210\n",
      "Fiat Strada Custom\n",
      "Buick Skylark Limited\n",
      "Chevrolet Citation\n",
      "Oldsmobile Omega Brougham\n",
      "Pontiac Phoenix\n",
      "Volkswagen Rabbit\n",
      "Toyota Corolla Tercel\n",
      "Chevrolet Chevette\n",
      "Datsun 310\n",
      "Chevrolet Citation\n",
      "Ford Fairmont\n",
      "AMC Concord\n",
      "Dodge Aspen\n",
      "Audi 4000\n",
      "Toyota Corolla Liftback\n",
      "Mazda 626\n",
      "Datsun 510 Hatchback\n",
      "Toyota Corolla\n",
      "Mazda GLC\n",
      "Dodge Colt\n",
      "Datsun 210\n",
      "Volkswagen Rabbit C (Diesel)\n",
      "Volkswagen Dasher (diesel)\n",
      "Audi 5000s (diesel)\n",
      "Mercedes-Benz 240d\n",
      "Honda Civic 1500 gl\n",
      "Renault Lecar Deluxe\n",
      "Subaru DL\n",
      "Volkswagen Rabbit\n",
      "Datsun 280-ZX\n",
      "Mazda RX-7 GS\n",
      "Triumph TR7 Coupe\n",
      "Ford Mustang Cobra\n",
      "Honda Accord\n",
      "Plymouth Reliant\n",
      "Buick Skylark\n",
      "Dodge Aries Wagon (sw)\n",
      "Chevrolet Citation\n",
      "Plymouth Reliant\n",
      "Toyota Starlet\n",
      "Plymouth Champ\n",
      "Honda Civic 1300\n",
      "Subaru\n",
      "Datsun 210 MPG\n",
      "Toyota Tercel\n",
      "Mazda GLC 4\n",
      "Plymouth Horizon 4\n",
      "Ford Escort 4W\n",
      "Ford Escort 2H\n",
      "Volkswagen Jetta\n",
      "Renault 18i\n",
      "Honda Prelude\n",
      "Toyota Corolla\n",
      "Datsun 200SX\n",
      "Mazda 626\n",
      "Peugeot 505s Turbo Diesel\n",
      "Saab 900s\n",
      "Volvo Diesel\n",
      "Toyota Cressida\n",
      "Datsun 810 Maxima\n",
      "Buick Century\n",
      "Oldsmobile Cutlass LS\n",
      "Ford Grenada gl\n",
      "Chrysler Lebaron Salon\n",
      "Chevrolet Cavalier\n",
      "Chevrolet Cavalier Wagon\n",
      "Chevrolet Cavalier 2-door\n",
      "Pontiac J2000 SE Hatchback\n",
      "Dodge Aries SE\n",
      "Pontiac Phoenix\n",
      "Ford Fairmont Futura\n",
      "AMC Concord DL\n",
      "Volkswagen Rabbit l\n",
      "Mazda GLC Custom l\n",
      "Mazda GLC Custom\n",
      "Plymouth Horizon Miser\n",
      "Mercury Lynx l\n",
      "Nissan Stanza XE\n",
      "Honda Accord\n",
      "Toyota Corolla\n",
      "Honda Civic\n",
      "Honda Civic (auto)\n",
      "Datsun 310 GX\n",
      "Buick Century Limited\n",
      "Oldsmobile Cutlass Ciera (diesel)\n",
      "Chrysler Lebaron Medallion\n",
      "Ford Grenada l\n",
      "Toyota Celica GT\n",
      "Dodge Charger 2.2\n",
      "Chevrolet Camaro\n",
      "Ford Mustang GL\n",
      "Volkswagen Pickup\n",
      "Dodge Rampage\n",
      "Ford Ranger\n",
      "Chevy S-10\n"
     ]
    }
   ],
   "source": [
    "with open(filename, 'r') as f:\n",
    "    for line in f:\n",
    "        line_data = line.split(\";\")\n",
    "        print(line_data[0])"
   ]
  },
  {
   "cell_type": "code",
   "execution_count": 28,
   "metadata": {},
   "outputs": [
    {
     "name": "stdout",
     "output_type": "stream",
     "text": [
      "['AMC', 'Audi', 'BMW', 'Buick', 'Cadillac', 'Capri', 'Car', 'Chevrolet', 'Chevrolete', 'Chevy', 'Chrysler', 'Citroen', 'Datsun', 'Dodge', 'Fiat', 'Ford', 'Hi', 'Honda', 'Mazda', 'Mercedes', 'Mercedes-Benz', 'Mercury', 'Nissan', 'Oldsmobile', 'Opel', 'Peugeot', 'Plymouth', 'Pontiac', 'Renault', 'STRING', 'Saab', 'Subaru', 'Toyota', 'Triumph', 'Volkswagen', 'Volvo']\n"
     ]
    }
   ],
   "source": [
    "with open(filename, 'r') as f:\n",
    "    result = {}\n",
    "    for line in f:\n",
    "        line_data = line.split(\";\")\n",
    "        car = line_data[0]\n",
    "        car_metadata = car.split()\n",
    "        car_name = car_metadata[0] \n",
    "        if car_name not in result:\n",
    "            result[car_name] = [\"\".join(car_metadata[1:])]\n",
    "        result[car_name].append(\"\".join(car_metadata[1:]))\n",
    "print(sorted(result.keys()))"
   ]
  },
  {
   "cell_type": "markdown",
   "metadata": {},
   "source": [
    "# Testing `urllib`"
   ]
  },
  {
   "cell_type": "code",
   "execution_count": 50,
   "metadata": {},
   "outputs": [
    {
     "name": "stdout",
     "output_type": "stream",
     "text": [
      "b'<!--\\n\\n  Built by Eric Mill. twitter.com/konklone\\n  With huge thanks to Brandon Jones. twitter.com/btj\\n\\n  Bug reports and stuff:\\n    github.com/isitchristmas/web/issues\\n\\n  Open the developer console.\\n\\n-->\\n\\n<!doctype html>\\n<html lang=\"en\">\\n<head>\\n  <link rel=\"authors\" href=\"/humans.txt\" />\\n\\n  <meta charset=\"utf-8\" />\\n  <title>Is it Christmas?</title>\\n\\n  <link rel=\"shortcut icon\" href=\"/icons/large.png\" />\\n\\n  <link rel=\"alternate\" title=\"Is It Christmas?\" href=\"/rss.xml\" type=\"application/rss+xml\" />\\n  <link rel=\"alternate\" title=\"Is It Christmas? (Christmas only)\" href=\"/rss.xml?only=yes\" type=\"application/rss+xml\" />\\n\\n  <meta name=\"twitter:site\" content=\"@konklone\">\\n  <meta name=\"twitter:creator\" content=\"@konklone\">\\n  <meta property=\"og:site_name\" content=\"Is It Christmas?\" />\\n  <meta property=\"og:type\" content=\"website\" />\\n  <meta property=\"og:url\" content=\"https://isitchristmas.com\" />\\n\\n  <meta property=\"og:title\" content=\"Is It Christmas?\" />\\n\\n  <meta name=\"twitter:card\" content=\"summary\">\\n  <meta property=\"og:image\" content=\"https://isitchristmas.com/icons/large-wide.png\" />\\n\\n  <style type=\"text/css\">\\n    html, body {height: 100%;}\\n    body {text-align: center;}\\n\\n    a#answer {\\n      display: inline-block;\\n      margin-top: 200px;\\n      font-weight: bold;\\n      font-size: 120pt;\\n      font-family: Arial, sans-serif;\\n      text-decoration: none;\\n      color: black;\\n      cursor: default;\\n    }\\n\\n    .flag {\\n      position: absolute;\\n      cursor: none;\\n\\n      border: 1px solid #d6d6d6;\\n\\n      -webkit-border-radius: 2px;\\n           -o-border-radius: 2px;\\n              border-radius: 2px;\\n    }\\n    .flag.ghost {opacity: 0.4;}\\n    .flag.me {pointer-events: none;}\\n\\n    .click {\\n      position: absolute;\\n      border: 1px solid #000;\\n\\n      -webkit-border-radius: 3px;\\n              border-radius: 3px;\\n\\n      -webkit-transition: 0.5s ease-out;\\n         -moz-transition: 0.5s ease-out;\\n           -o-transition: 0.5s ease-out;\\n              transition: 0.5s ease-out;\\n    }\\n\\n    #legend {\\n      position: fixed;\\n      top: 0; right: 0;\\n      width: 200px;\\n      padding-right: 15px; padding-top: 5px;\\n      text-align: right;\\n      font-size: 10pt;\\n    }\\n\\n    /* remove display: none, and turn on setTimers(), to restore */\\n    #links {\\n      position: fixed;\\n      top: 0; left: 0;\\n      width: 300px;\\n      padding-left: 15px; padding-top: 5px;\\n      text-align: left;\\n      font-size: 10pt;\\n      z-index: 9999;\\n\\n      opacity: 0;\\n\\n      display: none;\\n\\n      -webkit-transition: 0.5s ease-out;\\n         -moz-transition: 0.5s ease-out;\\n           -o-transition: 0.5s ease-out;\\n              transition: 0.5s ease-out;\\n    }\\n\\n    #links a {\\n      color: #333;\\n      display: inline-block;\\n      margin-right: 10px;\\n    } #links a#console {display: none;}\\n    /* 4 9\\'s, needs to be clickable */\\n  </style>\\n\\n  <script type=\"text/javascript\" src=\"/js/christmas.js\"></script>\\n\\n  <!-- IE11 JS targeting, from http://stackoverflow.com/a/17447695 -->\\n  <script type=\"text/javascript\">\\n    window._ie11 = !!navigator.userAgent.match(/Trident\\\\/7.0; rv 11/);\\n    window._edge = !!navigator.userAgent.match(/Edge/);\\n    window._ie = window._ie11 || window._edge;\\n    window._firefox = !!navigator.userAgent.match(/Firefox/);\\n  </script>\\n</head>\\n\\n<body>\\n  <!--\\n    Initial \\'title\\' and noscript values are server-side fallbacks,\\n    calculated with UTC, for clients who do not have JS enabled.\\n  -->\\n  <a id=\"answer\"\\n    href=\"#\"\\n    target=\"_blank\"\\n    title=\"NO\"\\n    onclick=\"return false\">\\n    <noscript>NO</noscript>\\n  </a>\\n\\n  <!-- fade in after a couple seconds -->\\n  <div id=\"links\">\\n    <a href=\"https://twitter.com/konklone\" target=\"_blank\">by @konklone</a>\\n    <a href=\"https://ifttt.com/isitchristmas\" target=\"_blank\">on IFTTT</a>\\n    <!-- filled in dynamically by JavaScript -->\\n    <a id=\"console\" href=\"#\" target=\"_blank\">console</a>\\n  </div>\\n\\n  <div id=\"legend\"></div>\\n\\n  <!-- replace fallback data with locally calculated values -->\\n  <script type=\"text/javascript\">\\n    var country = \"US\";\\n    if (!(Christmas.countries[country] && Christmas.countries[country].width))\\n      country = \"EO\";\\n\\n    var me = {\\n      country: country\\n    };\\n\\n    var checkedAt; // store last check, to manage race conditions\\n    function updateChristmas(isIt) {\\n      me.christmas = isIt;\\n\\n      var answer;\\n      if (isIt)\\n        answer = Christmas.yes(country);\\n      else\\n        answer = Christmas.no(country);\\n\\n      var elem = document.getElementById(\\'answer\\');\\n      elem.innerHTML = answer;\\n      elem.setAttribute(\"title\", answer);\\n\\n      checkedAt = Date.now();\\n    }\\n\\n    updateChristmas(Christmas.isIt());\\n  </script>\\n\\n\\n  \\n    <script>\\n      (function(i,s,o,g,r,a,m){i[\\'GoogleAnalyticsObject\\']=r;i[r]=i[r]||function(){\\n      (i[r].q=i[r].q||[]).push(arguments)},i[r].l=1*new Date();a=s.createElement(o),\\n      m=s.getElementsByTagName(o)[0];a.async=1;a.src=g;m.parentNode.insertBefore(a,m)\\n      })(window,document,\\'script\\',\\'https://www.google-analytics.com/analytics.js\\',\\'ga\\');\\n\\n      ga(\\'create\\', \\'UA-252618-5\\', \\'isitchristmas.com\\');\\n      ga(\\'set\\', \\'anonymizeIp\\', true);\\n      ga(\\'set\\', \\'forceSSL\\', true);\\n      ga(\\'send\\', \\'pageview\\');\\n\\n    </script>\\n  \\n\\n\\n  <!-- optional: interaction -->\\n  <script src=\"/js/browser.js\"></script>\\n  <script src=\"/js/css.js\"></script>\\n  <script src=\"/js/sockjs.min.js\"></script>\\n  <script src=\"/js/emoji.js\"></script>\\n  <script src=\"/js/api.js\"></script>\\n  <script type=\"text/javascript\">\\n\\n    var socket;\\n    var others = {};\\n\\n    var user = {\\n      log: {\\n        join: false, // join/leave messages\\n        info: false,   // default\\n        debug: false, // you know\\n\\n        life: true,  // life and death events\\n        chat: true,  // chat messages\\n        system: true // messages from the system for the public\\n      },\\n\\n      retry: {\\n        id: null, // the timeout id\\n        initial: 500, // milliseconds\\n        multiplier: 2, // multiply after every retry\\n        current: 500 // will change\\n      },\\n\\n      // values will be overwritten on hello in production\\n      live: {\\n        mouse_rate: 20,\\n        heartbeat_interval: 3000,\\n        death_interval: 6000,\\n        chat: \"true\",\\n\\n        ghost_duration: 2000,\\n        ghost_max: 10\\n      }\\n    };\\n\\n    me.flag = null;\\n    me.ghosts = 0;\\n    me.angle = 0;\\n    me.alreadyArrived = false;\\n    me.notify = false;\\n\\n    if (window.localStorage) {\\n      me.savedName = window.localStorage.getItem(\"me.name\");\\n      me.notify = (window.localStorage.getItem(\"me.notify\") == \"true\");\\n      if (canNotify && me.notify && !(Notification.permission == \"granted\"))\\n        notifications.permission();\\n    }\\n\\n    // sockjs server endpoint\\n    \\n      \\n      var url = \"/christmas\";\\n    \\n\\n    // whether activity is visible to the user\\n    var visible = false;\\n\\n    // whether we need to force chat to stay plain-text (no styles).\\n    // right now, the only situation that\\'s relevant is IE.\\n    var plainConsole = false || !!window._ie;\\n\\n    var backgroundImages = !(plainConsole || window._firefox);\\n\\n    // force it to use a particular transport\\n    var transport = \"\";\\n\\n    // we only need websockets these days (huzzah!)\\n    var default_transports = [\"websocket\"];\\n\\n    // html5 notifications (opt-in)\\n    var canNotify = \"Notification\" in window;\\n\\n    // tiny events/commands system\\n    var events = {};\\n    var commands = {};\\n    function on(event, func) {events[event] = func;}\\n    function command(cmd, func) {commands[cmd] = func;}\\n    function noop() {};\\n\\n    // managing heartbeats\\n    var heartbeat, death;\\n    var suicide = false; // why would you do this\\n\\n    // country legend and fade timer\\n    var legend = document.getElementById(\"legend\"),\\n        legendTimeout;\\n\\n    // timers for xmas-in and xmas-out\\n    var christmasTimer,\\n        christmasEndTimer;\\n\\n    // display a custom console link per-browser\\n    var consoles = {\\n      firefox: \"https://developer.mozilla.org/en-US/docs/Tools/Web_Console#Opening_the_Web_Console\",\\n      chrome: \"https://developer.chrome.com/devtools/docs/console#basic-operation\",\\n      explorer: \"https://go.microsoft.com/fwlink/p/?LinkID=309077\"\\n    }\\n\\n    var clickMap = {0: \"left\", 1: \"middle\", 2: \"right\"};\\n    var clickbacks = {};\\n\\n\\n/**** basic connection and event management ***/\\n\\n    function connect(host) {\\n      socket = new SockJS(host, null, {\\n        protocols_whitelist: transport ? [transport] : default_transports\\n      });\\n\\n      socket.onopen = function() {\\n        log.info(\"= Connected via \" + socket.protocol);\\n\\n        me.transport = socket.protocol;\\n\\n        // reset retry timer, we\\'re in\\n        user.retry.current = user.retry.initial;\\n      };\\n\\n      socket.onclose = onDeath;\\n\\n      socket.onmessage = function(message) {\\n        var data = JSON.parse(message.data);\\n        (events[data._event] || noop)(data);\\n      };\\n    }\\n\\n    var rawSend = function(message) {socket.send(message)};\\n    var limiters = {\\n      chat: ratelimit(rawSend, 500),\\n      motion: ratelimitLive(rawSend, \\'mouse_rate\\'),\\n      scroll: ratelimit(rawSend, 50),\\n      click: ratelimit(rawSend, 50)\\n      // covers click, scroll, anything else\\n      // fallback: ratelimit(rawSend, 20)\\n    };\\n\\n    function emit(event, data) {\\n      if (!me.id || !me.transport) {\\n        log.info(\"= Weird state! Trying to emit events when I have no ID. :|\")\\n        return;\\n      }\\n\\n      data = data || {};\\n      data._event = event;\\n      var message = JSON.stringify(data);\\n      (limiters[event] || rawSend)(message);\\n    }\\n\\n\\n\\n/*** user join/leave management ***/\\n\\n    on(\\'hello\\', function(data) {\\n      log.info(\"= Assigned ID: \" + data.user.id + \" [on: \" + data.server + \"]\");\\n\\n      // used only directly by other clients when packets are blindly rebroadcast.\\n      // me.id will never be depended on by the server.\\n      me.id = data.user.id;\\n\\n      // convenience only for console poking, can safely delete\\n      me.server = data.server;\\n\\n      // for display only, never sent, is overwritten on server-validated rename\\n      me.name = data.user.name;\\n\\n      // server-overridden client options\\n      for (var key in data.live)\\n        user.live[key] = data.live[key];\\n\\n      me.browser = BrowserDetect.browser;\\n      me.os = BrowserDetect.OS;\\n      me.version = BrowserDetect.version;\\n\\n      // welcome user, unless it\\'s a reconnect\\n      if (!me.alreadyArrived)\\n        welcomeUser();\\n\\n      // if we have a saved name, re-validate that name with the server\\n      if (me.savedName)\\n        rename(me.savedName);\\n      else {\\n        myName();\\n        log.system(\" \");\\n      }\\n\\n\\n      // all users announce their info to the server and start a heartbeat\\n      emit(\\'arrive\\', myHeart());\\n\\n      // update me to indicate I\\'ve sent \\'arrive\\' once\\n      // server will know that future connects are reconnects\\n      me.alreadyArrived = true;\\n\\n      setHeartbeat();\\n      setCursor(me.country);\\n\\n      document.onmousemove = mouseMove;\\n      document.onmousedown = mouseClick;\\n      document.onmousewheel = mouseWheel;\\n      document.onkeydown = keyDown;\\n      document.addEventListener(\"DOMMouseScroll\", mouseWheel, false);\\n      document.oncontextmenu = function() {return false};\\n    });\\n\\n    // core user details\\n    var myHeart = function() {\\n      return {\\n        id: me.id, // used (and validated) in rebroadcasting only\\n        angle: me.angle, // useful on reconnecting\\n        alreadyArrived: me.alreadyArrived, // new or reconnect?\\n        country: me.country, // this is used only on arrival\\n        transport: me.transport,\\n        browser: me.browser,\\n        version: me.version,\\n        os: me.os\\n      };\\n    };\\n\\n    var onDeath = function() {\\n      log.life(\"= Disconnected! :(\");\\n\\n      clearTimeout(heartbeat);\\n      clearTimeout(death);\\n\\n      for (var id in others)\\n        removeOther(id);\\n\\n      document.onmousemove = null;\\n      document.onmousedown = null;\\n      document.onmousewheel = null;\\n      document.oncontextmenu = null;\\n      document.onkeydown = null;\\n\\n      me.id = null;\\n      me.transport = null;\\n      me.time = null;\\n      if (me.flag && me.flag.parentElement)\\n        me.flag.parentElement.removeChild(me.flag);\\n\\n      setRetry();\\n    };\\n\\n    var setRetry = function() {\\n      log.life(\"= Retrying in \" + user.retry.current + \"ms...\");\\n      user.retry.id = setTimeout(function() {\\n        connect(url);\\n      }, user.retry.current);\\n\\n      user.retry.current = user.retry.current * user.retry.multiplier;\\n    }\\n\\n    var setHeartbeat = function() {\\n      clearTimeout(heartbeat);\\n      heartbeat = setTimeout(function() {\\n        log.debug(\"heartbeat: beating\");\\n        emit(\"heartbeat\", myHeart());\\n      }, parseInt(user.live.heartbeat_interval));\\n\\n      death = setTimeout(function() {\\n        log.life(\"= Died from lack of heartbeat :(\")\\n        socket.close();\\n      }, parseInt(user.live.death_interval));\\n    };\\n\\n    on(\"heartbeat\", function(data) {\\n      if (suicide) return; // let death take me\\n\\n      clearTimeout(death); // death averted\\n      log.debug(\"heartbeat: returned, death averted\");\\n\\n      setHeartbeat();\\n    });\\n\\n    on(\\'arrive\\', function(other) {\\n      registerOther(other);\\n\\n      // let a new arrival know you are already here\\n      emit(\"here\", {to: other.id});\\n    });\\n\\n    on(\\'here\\', function(other) {\\n      registerOther(other);\\n    });\\n\\n    on(\\'leave\\', function(data) {\\n      removeOther(data.id);\\n    });\\n\\n    on(\\'ping\\', function(data) {\\n      log.debug(\"Ping.\");\\n      if (me.flag) {\\n        var x = parseInt(me.flag.style.left);\\n        var y = parseInt(me.flag.style.top);\\n        if (!isNaN(x) && !isNaN(y))\\n          emit(\"pong\", {x: x, y: y, angle: me.angle});\\n      }\\n    })\\n\\n    var registerOther = function(other) {\\n      if (others[other.id]) return;\\n\\n      others[other.id] = {\\n        country: other.country,\\n        ghosts: 0,\\n        angle: (other.angle || 0)\\n      };\\n\\n      var name;\\n      if (Christmas.countries[other.country])\\n        name = Christmas.countries[other.country].name;\\n      else\\n        name = other.country;\\n\\n      var flag = \"\";\\n      if (!backgroundImages)\\n        flag += \"%c[\" + other.country + \"]\";\\n      else\\n        flag += \"%c   \";\\n      log.join(flag + \"%c [\" + other.id.slice(8) + \"] Joined from \" + other.country + \" (\" + name + \")\", styles.flag(other.country), styles.join);\\n    };\\n\\n    // the creation of an element per-user is only sparked by that user\\'s mouse motion.\\n    // so read-only (non-WS) clients will connect and be known, but not cause\\n    // elements to be generated.\\n    var showOther = function(other) {\\n      // make up for shortened key name\\n      other.country = other.country || other.c;\\n\\n      // in case this comes before the \\'arrive\\' event does\\n      registerOther(other);\\n\\n      others[other.id].flag = flagFor(other.country, \"other\");\\n\\n      if (others[other.id].angle)\\n        setRotate(others[other.id].flag, others[other.id].angle);\\n\\n      if (visible)\\n        document.body.appendChild(others[other.id].flag);\\n    };\\n\\n    var removeOther = function(id) {\\n      if (!others[id]) return;\\n      var country = others[id].country;\\n\\n      var elem = others[id].flag;\\n      if (elem && elem.parentElement)\\n        elem.parentElement.removeChild(elem);\\n\\n      delete others[id];\\n\\n      var flag = \"\";\\n      if (!backgroundImages)\\n        flag += \"%c[\" + country + \"]\";\\n      else\\n        flag += \"%c   \";\\n\\n      var name;\\n      if (Christmas.countries[country])\\n        name = Christmas.countries[country].name;\\n      else\\n        name = country;\\n\\n      log.join(flag + \"%c [\" + id.slice(8) + \"] Departed from \" + country + \" (\" + name + \")\", styles.flag(country), styles.join);\\n    };\\n\\n\\n/**** FLAG MECHANICS ***/\\n\\n    var setCursor = function(country) {\\n      me.flag = flagFor(country, \"me\");\\n      me.flag._new = true; // used to lazy-add element only if moved\\n      me.flag.style.zIndex = 999; // 3 9\\'s, on top of the world\\n      setRotate(me.flag, me.angle); // preserve angle on reconnect\\n    };\\n\\n    var setRotate = function(elem, angle) {\\n      if (!elem) return;\\n      elem.style.transform = elem.style.webkitTransform = elem.style.msTransform = \"rotate(\" + angle + \"deg)\";\\n    };\\n\\n    var flagFor = function(country, klass) {\\n      var div = document.createElement(\\'div\\');\\n      div.className = \"flag \" + klass;\\n\\n      var flag = document.createElement(\\'img\\');\\n      flag.src = \"/countries/\" + country + \".png\";\\n\\n      // create a legend in the top-right when you mouse over other people\\'s flags\\n      if (klass == \"other\") {\\n        div.onmouseover = function() {\\n          clearTimeout(legendTimeout);\\n          legend.innerHTML = Christmas.countries[country].names.join(\"<br/>\");\\n          legend.style.opacity = 1;\\n          legendTimeout = setTimeout(function() {\\n            legend.style.opacity = 0;\\n          }, 20000)\\n        };\\n      }\\n\\n      div.appendChild(flag);\\n\\n      // without this, div adds height padding, weird\\n      div.style.height = \"20px\";\\n\\n      div.style.marginTop = \"-10px\"; // half of constant height 20\\n      div.style.marginLeft = \"-\" + (flagWidth(country) / 2) + \"px\";\\n\\n      return div;\\n    };\\n\\n    // there is sadly no international standard on flag aspect ratio\\n    var flagWidth = function(country) {\\n      return ((Christmas.countries[country] && Christmas.countries[country].width) || 40);\\n    }\\n\\n\\n    var mouseMove = function(event) {\\n      event = event || window.event;\\n\\n      // only show it on first movement\\n      if (me.flag._new && visible && event.clientX && event.clientY) {\\n        document.body.appendChild(me.flag);\\n        document.body.style.cursor = \"none\";\\n        document.getElementById(\"answer\").style.cursor = \"none\";\\n        me.flag._new = false;\\n      }\\n\\n      moveFlag(me.flag,\\n        event.clientX + window.pageXOffset,\\n        event.clientY + window.pageYOffset\\n      );\\n\\n      // is quick-rebroadcast, no server processing\\n      emit(\\'motion\\', {\\n        x: event.clientX + window.pageXOffset,\\n        y: event.clientY + window.pageYOffset,\\n        id: me.id,\\n        c: me.country // TODO: have server re-look-up country\\n      });\\n    };\\n\\n    on(\\'motion\\', function(other) {\\n      // toss junk motion\\n      if (!(other.x && other.y)) return;\\n\\n      if (!others[other.id] || !others[other.id].flag)\\n        showOther(other);\\n\\n      moveFlag(others[other.id].flag, other.x, other.y);\\n    });\\n\\n    var moveFlag = function(flag, x, y) {\\n      // check x and y to prevent motion on 0,0\\n      if (x && y) {\\n        flag.style.left = \"\" + x + \"px\";\\n        flag.style.top = \"\" + y + \"px\";\\n      }\\n    };\\n\\n    var mouseWheel = function(event) {\\n      event = event || window.event;\\n\\n      // how many clicks, and in which direction\\n      var direction;\\n      if (event.wheelDelta)\\n        direction = (event.wheelDelta > 0) ? 1 : -1;\\n      else if (event.detail && (event.detail != 0))\\n        direction = (event.detail > 0) ? -1 : 1;\\n\\n      var increment = 15;\\n\\n      if (direction > 0)\\n        me.angle += increment;\\n      else\\n        me.angle -= increment;\\n\\n      setRotate(me.flag, me.angle);\\n      emit(\\'scroll\\', {id: me.id, angle: me.angle});\\n\\n      if (event.preventDefault) event.preventDefault();\\n      return false;\\n    }\\n\\n    on(\\'scroll\\', function(other) {\\n      if (!others[other.id]) return;\\n\\n      others[other.id].angle = other.angle;\\n      setRotate(others[other.id].flag, other.angle);\\n    });\\n\\n    // Let users use left and right arrow keys to rotate the flag.\\n    // Especially helpful to users with no scroll wheel! (Who has\\n    // those things now anyway?)\\n    //\\n    // Thanks to Brittany Rose for the idea!\\n    var keyDown = function(event) {\\n        event = event || window.event;\\n\\n        var direction;\\n\\n        if (event.keyCode == \\'37\\') // left\\n          direction = -1;\\n        else if (event.keyCode == \\'39\\') // right\\n          direction = 1;\\n        else\\n          return true;\\n\\n        log.debug(\"key press: \" + event.keyCode);\\n\\n        var increment = 15;\\n\\n        if (direction > 0)\\n          me.angle += increment;\\n        else\\n          me.angle -= increment;\\n\\n        setRotate(me.flag, me.angle);\\n        emit(\\'scroll\\', {id: me.id, angle: me.angle});\\n\\n        if (event.preventDefault) event.preventDefault();\\n        return false;\\n    }\\n\\n    var mouseClick = function(event) {\\n      event = event || window.event;\\n\\n      var button = clickMap[event.button];\\n\\n      var x = event.clientX + window.pageXOffset;\\n      var y = event.clientY + window.pageYOffset;\\n\\n      clickbacks[button](me, x, y);\\n\\n      // is quick-rebroadcast, no server processing\\n      emit(\\'click\\', {x: x, y: y, id: me.id, button: button});\\n    };\\n\\n    on(\\'click\\', function(other) {\\n      clickbacks[other.button](others[other.id], other.x, other.y);\\n    });\\n\\n    clickbacks.left = function(person, x, y) {\\n      if (!visible) return;\\n      if (!person) return;\\n\\n      var elem = document.createElement(\"div\");\\n\\n      var width = flagWidth(person.country)\\n      var height = 20; // constant flag height\\n      var xOff = Math.floor(width / 2);\\n      var yOff = Math.floor(height / 2);\\n\\n      if (canNotify && me.notify && !(Notification.permission == \"granted\"))\\n        notifications.permission();\\n\\n      elem.className = \"click\";\\n      elem.style.width = \"\" + width + \"px\";\\n      elem.style.height = \"\" + height + \"px\";\\n      elem.style.left = \"\" + (x - xOff) + \"px\";\\n      elem.style.top = \"\" + (y - yOff) + \"px\";\\n\\n      setRotate(elem, person.angle);\\n\\n      document.body.appendChild(elem);\\n      setTimeout(function() {\\n        elem.style.width = \"\" + (width*2) + \"px\";\\n        elem.style.height = \"\" + (height*2) + \"px\";\\n        elem.style.borderColor = \"#fff\";\\n        elem.style.left = \"\" + (x - width) + \"px\";\\n        elem.style.top = \"\" + (y - height) + \"px\";\\n        setTimeout(function() {\\n          elem.parentElement.removeChild(elem);\\n        }, 500);\\n      }, 10);\\n    };\\n\\n    // create a translucent ghost flag\\n    clickbacks.right = function(person, x, y) {\\n      if (!visible) return;\\n      if (!person) return;\\n\\n      // enforce ghost cap\\n      if (person.ghosts >= user.live.ghost_max)\\n        return;\\n\\n      var ghost = flagFor(person.country, \"ghost\");\\n      setRotate(ghost, person.angle);\\n      document.body.appendChild(ghost);\\n      moveFlag(ghost, x, y);\\n      person.ghosts += 1;\\n\\n      // exists for 1s, fades for 1s\\n      setTimeout(function() {\\n        ghost.parentElement.removeChild(ghost);\\n        if (person) person.ghosts -= 1;\\n      }, user.live.ghost_duration);\\n    };\\n\\n    clickbacks.middle = function(person, x, y) {\\n      person.angle = 0;\\n      setRotate(person.flag, 0);\\n    };\\n\\n\\n/**** Chat mechanics ****/\\n\\n    // welcome user once, then after every 10 chat messages received.\\n    // turn off when the user first uses say().\\n    var said = false;\\n    var chatsSince = 0;\\n\\n    var myName = function() {\\n      var hello = \"%cYour name is \";\\n      hello += \"%c\" + me.name;\\n      hello += \"%c. Hello, \";\\n      hello += \"%c\" + me.name;\\n      hello += \"%c.\";\\n      log.system(hello, styles.system, styles.chat_my_name, styles.system, styles.chat_my_name, styles.system);\\n\\n      var hasName = false;\\n      if (window.localStorage) {\\n        var name = window.localStorage.getItem(\"me.name\", me.name);\\n        if (name) hasName = true;\\n      }\\n\\n      if (!hasName)\\n        spam();\\n    }\\n\\n    var spam = function() {\\n      var msg = \"%cPlease%c don\\'t spam and ruin the chat! :) %c  %c %c  %c %c  \";\\n      log.system(msg, styles.please, styles.spam, styles.emoji(\"smiley\"), styles.spam, styles.emoji(\"heart\"), styles.spam, styles.emoji(\"christmas_tree\"));\\n    }\\n\\n    // I\\'ll have to figure out a better syntax for\\n    var welcomeUser = function() {\\n      if (user.live.chat != \"true\") return;\\n\\n      log.system(\"%cCommands:\", styles.help);\\n      log.system(\" \");\\n      // var help1a = \"%csay%c - Say a message to other people.\"\\n      var help1 = \"%csay(\\\\\"message\\\\\")\";\\n      help1 += \"%c - Say a %cmessage %cto other people. (Include the quotes and parentheses!)\";\\n      // var help2a = \"%crename%c - Change to a new name.\";\\n      var help2 = \"%crename(\\\\\"Name\\\\\")\";\\n      help2 += \"%c - Change to a new %cName%c. (Include the quotes and parentheses!)\";\\n      var helpX = \"%cnotifications()%c - Enable desktop notifications for when you are mentioned.\"\\n      var help3 = \"%chelp()%c - See this message again.\";\\n      var help4 = \"%cadvanced()%c - See menu of advanced options.\";\\n      var help5 = \"%crecent()%c - See recent chat history.\";\\n\\n      // log.system(help1a, styles.help_bold, styles.help);\\n      // log.system(help2a, styles.help_bold, styles.help);\\n      log.system(help1, styles.help_bold, styles.help, styles.help_bold, styles.help);\\n      log.system(help2, styles.help_bold, styles.help, styles.help_bold, styles.help);\\n      log.system(helpX, styles.help_bold, styles.help);\\n      log.system(help3, styles.help_bold, styles.help);\\n      log.system(help4, styles.help_bold, styles.help);\\n      log.system(help5, styles.help_bold, styles.help);\\n\\n      // log.system(\" \");\\n      // return \" \"; // when used via \\'help\\'\\n    };\\n\\n    var showAdvanced = function() {\\n      if (user.live.chat != \"true\") return;\\n\\n      var advanced1 = \"%ctraffic()%c - Turn on/off messages whenever people enter/leave your room. (Currently \";\\n      advanced1 += \"%c\" + (user.log.join ? \"on\" : \"off\") + \"%c.)\";\\n      // var advanced2 = \"%cemoji%c - How to use emoji in chat.\";\\n      var advanced3 = \"%croom()%c - Stats about the room you\\'re in.\"\\n      var advanced4 = \"%cwtf()%c - How is this happening\"\\n      var keys = \"%cYou can use arrow keys to rotate the flag.\"\\n      var api = \"%cWant to make a bot? Check out the JavaScript API: https://github.com/isitchristmas/web/wiki\"\\n\\n      var credit = \"%cMade by https://twitter.com/konklone, full credits at https://isitchristmas.com/humans.txt\";\\n\\n      log.system(\"%cAdvanced commands:\", styles.help);\\n      log.system(\" \");\\n      log.system(advanced1, styles.help_bold, styles.help, styles.help_bold, styles.help);\\n      // log.system(advanced2, styles.help_bold, styles.help);\\n      log.system(advanced3, styles.help_bold, styles.help);\\n      log.system(advanced4, styles.help_bold, styles.help);\\n      log.system(\" \");\\n      log.system(keys, styles.help);\\n      log.system(api, styles.help);\\n      log.system(\" \");\\n      log.system(credit, styles.system);\\n      spam();\\n      // return \" \";\\n    };\\n\\n    var showEmoji = function() {\\n      log.system(\"%cYou can put :\\'s around some words to create emoji.\", styles.system)\\n      log.system(\" \");\\n      log.system(\"%cFor example, %csay(%c\\\\\"I am :worried: you will :facepunch: me\\\\\"%c)\", styles.system, styles.info, styles.info_bold, styles.info);\\n      log.system(\"%cwill say: %cI am %c  %c you will %c  %c me\", styles.system, styles.info_bold, styles.emoji(\"worried\"), styles.info_bold, styles.emoji(\"facepunch\"), styles.info_bold);\\n      log.system(\" \");\\n      log.system(\"%cfull emoji reference (and my data source): http://www.emoji-cheat-sheet.com\", styles.system)\\n      // return \" \";\\n    };\\n\\n    var showRoom = function() {\\n      // re-key others by country\\n      var countries = {};\\n      for (var id in others) {\\n        var country = others[id].country;\\n        if (!countries[country]) countries[country] = [];\\n        countries[country].push(id);\\n      }\\n\\n      // sort by size\\n      var stats = Object.keys(countries);\\n      stats.sort(function(a, b) {\\n        return countries[a].length < countries[b].length\\n      });\\n\\n      log.system(\"%cYou\\'re in a randomly chosen \\'room\\' with the other flags. Stats about your room:\", styles.system)\\n      log.system(\" \");\\n\\n      stats.forEach(function(country) {\\n        var name, num;\\n        if (Christmas.countries[country]) {\\n          name = Christmas.countries[country].name;\\n          num = countries[country].length;\\n        }\\n        else {\\n          name = country;\\n          num = 1;\\n        }\\n\\n        var people = num == 1 ? \"person\" : \"people\";\\n        log.system(\"%c[\" + country + \"]%c[\" + name + \"] \" + num + \" \" + people, styles.debug, styles.info);\\n      });\\n\\n      log.system(\" \");\\n      log.system(\"%c(Not all connected people are visible.)\", styles.system)\\n      log.system(\"%c(Chat is universal and goes through every room.)\", styles.system);\\n\\n      // return \" \";\\n    };\\n\\n    var showWtf = function() {\\n      log.system(\" \");\\n\\n      log.system(\"%cWhat basically is happening: https://konklone.com/post/isitchristmas-dot-com-2013-more-and-better\", styles.system);\\n      log.system(\"%cWhat precisely is happening: https://github.com/isitchristmas\", styles.system);\\n      log.system(\"%cHow this console works: https://konklone.com/post/how-to-hack-the-developer-console-to-be-needlessly-interactive\", styles.system);\\n      log.system(\" \");\\n      log.system(\"%cSend any fun screenshots/screencasts to %chttps://twitter.com/konklone%c or %ceric@konklone.com%c.\", styles.system, styles.system_bold, styles.system, styles.system_bold, styles.system);\\n\\n      // return \" \";\\n    }\\n\\n    var say = function(message) {\\n      if (!message) return;\\n      if (user.live.chat != \"true\") return;\\n      message = message.toString();\\n\\n      said = true;\\n      emit(\\'chat\\', {message: message});\\n      return blank();\\n    };\\n\\n    // // run without parens to use a popup dialog\\n    // say.toString = function() {\\n    //   say(prompt(\"What do you want to say?\"));\\n    //   return \" \";\\n    // };\\n\\n    // convenience - handle all caps typos, and s\\n    var s = S = Say = sAy = saY = SAy = SaY = sAY = SAY = say;\\n\\n    var rename = function(name) {\\n      if (!name) return;\\n      emit(\\'rename\\', {name: name})\\n      return blank();\\n    };\\n\\n    var notifications = function(to) {\\n      if (!canNotify) {\\n        log.system(\"Unfortunately, your browser doesn\\'t support HTML5 notifications.\");\\n        return;\\n      }\\n\\n      if (to === undefined)\\n        me.notify = !me.notify;\\n      else\\n        me.notify = to;\\n\\n      if (window.localStorage)\\n        window.localStorage.setItem(\"me.notify\", me.notify);\\n\\n      if (me.notify) {\\n        if (Notification.permission == \"granted\")\\n          log.system(\"%cNotifications have been %cenabled%c.\", styles.system, styles.system_bold, styles.system);\\n        else\\n          log.system(\"%cNotifications have been %cenabled%c, but you first must %cclick your flag above%c, to prompt your browser to ask permission.\", styles.system, styles.system_bold, styles.system, styles.system_bold, styles.system);\\n      } else\\n        log.system(\"%cNotifications have been %cdisabled.\", styles.system, styles.system_bold);\\n    };\\n\\n    // notifications.toString = function() {\\n    //   notifications();\\n    //   return \" \";\\n    // };\\n\\n    notifications.permission = function() {\\n      Notification.requestPermission(function(permission) {\\n        if (permission == \"granted\") {\\n          // only useful in Chrome, FF sets this automatically\\n          Notification.permission = \"granted\";\\n\\n          notifications(true);\\n        } else if (permission == \"denied\") {\\n          log.system(\"You\\'ve denied permission for notifications. To change this, you\\'ll have to go into your browser\\'s settings.\");\\n          notifications(false);\\n        } // other option: \\'default\\', unhandled\\n      });\\n    };\\n\\n    // run without parens to use a popup dialog\\n    // rename.toString = function() {\\n    //   rename(prompt(\"Change your name to:\"));\\n    //   return \" \";\\n    // };\\n\\n    on(\\'rename\\', function(data) {\\n      me.name = data.name;\\n\\n      if (window.localStorage)\\n        window.localStorage.setItem(\"me.name\", me.name);\\n\\n      myName();\\n    });\\n\\n    var notify = function(user, message) {\\n      if (!canNotify) return;\\n\\n      if (Notification.permission == \"granted\")\\n        new Notification(user, {body: message, icon: \"https://isitchristmas.com/favicon.ico\"});\\n      else\\n        log.system(\\'Please enable notifications by clicking your flag above.\\');\\n    };\\n\\n\\n    // recent chat messages\\n    on(\\'recent\\', function(data) {\\n      log.system(\"Recent chat history:\");\\n      for (var i=0; i<data.chats.length; i++)\\n        displayChat(data.chats[i], true);\\n    });\\n\\n    on(\\'chat\\', function(data) {\\n      // if user\\'s never chatted, re-welcome them every 10 chat messages\\n      if (!said) {\\n        chatsSince += 1;\\n        if (chatsSince >= 10) {\\n          log.system(\" \");\\n          welcomeUser();\\n          myName();\\n          chatsSince = 0;\\n        }\\n      }\\n\\n      displayChat(data);\\n    });\\n\\n    var displayChat = function(data, disable_notify) {\\n\\n      // hack some extra recognized symbols in there\\n      var symbols = {\\n        \"<3\": \":heart:\",\\n        \":\\\\\\\\)\": \":smiley_cat:\",\\n        \"o_o\": \":cat:\",\\n        \";\\\\\\\\)\": \":wink:\",\\n        \":\\\\\\\\*\": \":kissing_closed_eyes:\",\\n        \"!\\\\\\\\?\": \":interrobang:\",\\n        \"\\\\\\\\^_\\\\\\\\^\": \":blush:\",\\n        \"</3\": \":broken_heart:\",\\n        \"\\\\\\\\(c\\\\\\\\)\": \":copyright:\",\\n        \":\\\\\\\\(\": \":crying_cat_face:\",\\n        \";\\\\\\\\(\": \":crying_cat_face:\",\\n        \";_;\": \":crying_cat_face:\",\\n        \"\\\\\\\\${2,}\": \":moneybag:\",\\n        \"\\\\\\\\btree\\\\\\\\b\": \":christmas_tree:\",\\n      };\\n\\n      for (var symbol in symbols)\\n        data.message = data.message.replace(new RegExp(symbol, \"gi\"), symbols[symbol]);\\n\\n\\n      // notify if someone else says my name and I\\'ve opted in\\n      if (!disable_notify && me.notify && !(data.id == me.id) && data.message.replace(new RegExp(me.name, \"gi\"), \\'\\') != data.message)\\n        notify(data.name, data.message);\\n\\n      // /me command?\\n      var slashMe = (data.message.indexOf(\"/me \") == 0);\\n      if (slashMe)\\n        data.message = data.message.replace(new RegExp(\"\\\\/me \"), \\'\\');\\n\\n      // avoid using logging system here, to do complex coloring\\n      var message = \"\";\\n      var nameStyle;\\n\\n      // no background image support :(\\n      if (!backgroundImages)\\n        message += \"%c[\" + data.country + \"]\";\\n      else\\n        message += \"%c   \";\\n\\n      if (slashMe) {\\n        message += \"%c * \" + data.name;\\n        nameStyle = styles.chat_message;\\n      } else {\\n        message += \"%c \" + data.name + \":\";\\n        nameStyle = (data.id == me.id ? styles.chat_my_name : styles.chat_name);\\n      }\\n\\n\\n      var emojis = [];\\n      if (backgroundImages) {\\n        while (found = Emoji.regexp.exec(data.message)) {\\n          emojis.push(styles.emoji(found[1]));\\n          emojis.push(styles.chat_message)\\n        };\\n        if (emojis.length > 0)\\n          data.message = data.message.replace(Emoji.regexp, \"%c  %c\");\\n      }\\n\\n      message += \"%c \" + data.message;\\n\\n      log.chat.apply(log, [\\n        message,\\n        styles.flag(data.country),\\n        nameStyle,\\n        styles.chat_message\\n      ].concat(emojis));\\n    };\\n\\n\\n\\n/**** Admin powers ***/\\n\\n    on(\\'config\\', function(data) {\\n      log.info(\"= live config change: \" + data.key + \" [\" + user.live[data.key] + \" -> \" + data.value + \"]\");\\n      user.live[data.key] = data.value;\\n    });\\n\\n    on(\\'command\\', function(data) {\\n      log.info(\"= command: \" + data.command + \" (\" + data.arguments.join(\",\") + \")\");\\n      (commands[data.command] || noop).apply(null, data.arguments);\\n    })\\n\\n    command(\\'blast\\', function(message) {\\n      log.system(\"= Server message: \" + message);\\n    })\\n\\n    command(\\'reconnect\\', function() {\\n      log.system(\"= Server asked us to reconnect, closing connection\");\\n      socket.close();\\n    });\\n\\n    command(\\'refresh\\', function() {\\n      log.system(\"= Server asked us to refresh, whooaaaaa\");\\n      window.location = window.location;\\n    })\\n\\n\\n/**** rate limiting utilities **/\\n\\n    // basic rate-limiter for a static value\\n    function ratelimit(fn, interval) {\\n      var last = (new Date()).getTime();\\n      return (function() {\\n        var now = (new Date()).getTime();\\n        if ((now - last) > interval) {\\n          last = now;\\n          return fn.apply(null, arguments);\\n        }\\n      });\\n    }\\n\\n    // special version of ratelimit that looks to live-changeable value\\n    function ratelimitLive(fn, live) {\\n      var last = (new Date()).getTime();\\n      return (function() {\\n        var now = (new Date()).getTime();\\n        if ((now - last) > user.live[live]) {\\n          last = now;\\n          return fn.apply(null, arguments);\\n        }\\n      });\\n    }\\n\\n\\n/** christmas midnight effect **/\\n\\n    // live flip when it\\'s Xmas, and when it\\'s not again\\n    var flagRule = addCSSRule(\".flag\");\\n    var clickRule = addCSSRule(\"div.click\");\\n    var legendRule = addCSSRule(\"div#legend\");\\n    var linksRule = addCSSRule(\"div#links\");\\n    function flagFade(centerTime) {\\n      // fade out, then in\\n      setTimeout(function() {\\n        flagRule.style.opacity = 0;\\n        legendRule.style.display = \"none\";\\n        linksRule.style.display = \"none\";\\n        clickRule.style.display = \"none\";\\n\\n        setTimeout(function() {\\n          flagRule.style.opacity = 1;\\n          legendRule.style.display = \"block\";\\n          linksRule.style.display = \"block\";\\n          clickRule.style.display = \"block\";\\n        }, 5000); // 2 seconds after center\\n\\n      }, (centerTime - Date.now()) - 3000); // 3 seconds before center (fade is 1s)\\n    }\\n\\n\\n    function setTimers() {\\n      // the init timer to fade in the links, used at christmas time\\n\\n      setTimeout(function() {\\n        document.getElementById(\"links\").style.opacity = 1;\\n      }, 2000);\\n\\n      links.onmouseover = function() {\\n        if (me && me.flag) me.flag.style.visibility = \"hidden\";\\n      };\\n\\n      links.onmouseout = function() {\\n        if (me && me.flag) me.flag.style.visibility = \"visible\";\\n      };\\n\\n      var link = document.getElementById(\"console\");\\n      if (consoles[BrowserDetect.browser]) {\\n        link.style.display = \"inline-block\";\\n        link.setAttribute(\"href\", consoles[BrowserDetect.browser]);\\n      }\\n\\n\\n      var nextXmas = Christmas.thisYear();\\n      // var nextXmas = new Date(Date.now() + (5 * 1000)); // 5 seconds from now\\n      // var nextXmas = new Date(Date.now()); // pretend we showed up a few milliseconds before\\n\\n      nextXmas = nextXmas.getTime();\\n\\n      var afterXmas = nextXmas + (24 * 60 * 60 * 1000); // 1 day later\\n      // var afterXmas = nextXmas + (5 * 1000); // 10 seconds later\\n\\n      // console.log(\"Christmas set for: \" + new Date(nextXmas));\\n      // console.log(\"Christmas ends: \" + new Date(afterXmas));\\n\\n      if (checkedAt < nextXmas) {\\n\\n        flagFade(nextXmas);\\n\\n        christmasTimer = setTimeout(function() {\\n          log.system(\"%c\" + Christmas.yes(country), styles.answer);\\n          updateChristmas(true);\\n        }, (nextXmas - Date.now()));\\n      }\\n\\n      if (checkedAt < afterXmas) {\\n\\n        flagFade(afterXmas);\\n\\n        christmasEndTimer = setTimeout(function() {\\n          log.system(\"%c\" + Christmas.no(country), styles.answer);\\n          updateChristmas(false);\\n        }, (afterXmas - Date.now()));\\n      }\\n    }\\n\\n\\n/**** minimalist logging system **/\\n\\n    // (this logging system got a lot less minimalist once I\\n    // waded into using %c for styling)\\n\\n    // any extra arguments are passed in to console.log,\\n    // assuming log formatting is enabled.\\n    var log = function(severity, message) {\\n      if (!user.log[severity]) return;\\n\\n      // if in plain-text mode, strip out %c and don\\'t pass on extra args\\n      if (plainConsole)\\n        console.log(message.replace(/%c/gi, \\'\\'));\\n\\n      else {\\n\\n        // if any args beyond severity and message, pass them on\\n        var args = Array.prototype.slice.call(arguments, [2]);\\n        if (args.length > 0)\\n          console.log.apply(console, [message].concat(args));\\n\\n        // otherwise, assume plain text bare message\\n        else\\n          console.log(message);\\n      }\\n    };\\n\\n    // generate little log.debug, log.info functions, etc.\\n    var severities = [\"debug\", \"info\", \"join\", \"system\", \"life\", \"chat\", \"public\"];\\n    log.convenience = function(severity) {\\n      return function(message) {\\n        // break here too, to avoid too much computation if not needed\\n        if (!user.log[severity]) return;\\n\\n        var args = Array.prototype.slice.call(arguments, [1]);\\n\\n        // if no style given, default to any per-severity style\\n        if (args.length == 0 && (styles[severity])) {\\n          message = \"%c\" + message;\\n          args = [styles[severity]];\\n        }\\n\\n        log.apply(window, [severity, message].concat(args));\\n      }\\n    }\\n    severities.forEach(function(severity) {\\n      log[severity] = log.convenience(severity);\\n    });\\n\\n    var styles = {\\n      debug: \"color: #999999\",\\n      join: \"color: #999999\",\\n      info: \"color: #444444\",\\n      info_bold: \"color: #444444; font-weight: bold\",\\n      system: \"color: #336699\",\\n      system_bold: \"color: #336699; font-weight: bold\",\\n      life: \"color: #ff0000\",\\n      chat_country: \"color: #999999\",\\n      chat_name: \"color: #006600\",\\n      chat_my_name: \"color: #006600; font-weight: bold\",\\n      chat_message: \"color: #444444\",\\n      spam: \"color: #336699\", // #990000 for urgency\\n      please: \"color: #336699; font-weight: bold\",\\n      help: \"color: #630053\",\\n      help_bold: \"color: #630053; font-weight: bold\",\\n      // how is this possible\\n      flag: function(country) {\\n        return \"background-image: url(\\\\\"https://isitchristmas.com/countries/\" + country + \".png\\\\\"); background-size: 100% 13px; border: 1px solid #d6d6d6\";\\n      },\\n      emoji: function(emoji) {\\n        return \"background-image: url(\\\\\"https://isitchristmas.com/emojis/\" + emoji + \".png\\\\\"); background-size: 100%;\";\\n      },\\n      answer: \"color: black; font-weight: bold; font-size: 120pt; text-transform: uppercase; font-family: Arial, sans-serif;\"\\n    }\\n\\n\\n/**** misc and browser-specific fixes **/\\n\\n    var help = welcomeUser;\\n\\n    var traffic = function() {\\n      user.log.join = !user.log.join;\\n      log.system(\"%cTurned traffic messages %c\" + (user.log.join ? \"on\" : \"off\") + \"%c.\", styles.system, styles.system_bold, styles.system);\\n      // return \" \";\\n    }\\n\\n    var advanced = showAdvanced;\\n\\n    var emoji = showEmoji;\\n\\n    var room = showRoom;\\n\\n    var wtf = showWtf;\\n\\n    var recent = function() {\\n      emit(\\'recent\\');\\n      // return \" \";\\n    };\\n\\n    // candy\\n    var candy = function() {window.location = \"https://candybox2.github.io\";}\\n\\n    // convenience for functions so they don\\'t say \\'undefined\\' in the console\\n    var blank = function() {\\n      // IE doesn\\'t like this method.\\n      if (window._ie) return undefined;\\n\\n      var nothing = function() {};\\n      nothing.toString = function() {return \" \"};\\n      return nothing;\\n    }\\n\\n    // IE fix: make console.log be okay\\n    if (!window.console) window.console = {};\\n    if (!window.console.log) window.console.log = function() {};\\n\\n    // prevent click-drags from \"grabbing\" image\\n    document.body.onmousedown = function(event) {\\n      event = event || window.event;\\n      if (event.preventDefault) event.preventDefault();\\n      else event.returnValue = false;\\n    };\\n\\n\\n/**** GO ****/\\n\\n//    setTimers();\\n//    connect(url);\\n\\n  </script>\\n</body>\\n</html>\\n'\n"
     ]
    }
   ],
   "source": [
    "import urllib\n",
    "from urllib.parse import urlparse\n",
    "\n",
    "parse1 = urlparse('https://www.nkishnani.com')\n",
    "parse2 = urlparse('https://www.careervillage.org')\n",
    "parse3 = urlparse('https://www.google.com:80')\n",
    "parse1, parse2, parse3\n",
    "\n",
    "with urllib.request.urlopen('https://www.isitchristmas.com') as response:\n",
    "    html = response.read()\n",
    "    print(html)\n"
   ]
  },
  {
   "cell_type": "markdown",
   "metadata": {},
   "source": [
    "# Learning `numpy` "
   ]
  },
  {
   "cell_type": "markdown",
   "metadata": {},
   "source": [
    "[Cited from TutorialsPoint](https://www.tutorialspoint.com/numpy/numpy_ndarray_object.htm)\n",
    "> The most important object defined in NumPy is an N-dimensional array type called ndarray. It describes the collection of items of the same type. Items in the collection can be accessed using a zero-based index."
   ]
  },
  {
   "cell_type": "code",
   "execution_count": 64,
   "metadata": {},
   "outputs": [
    {
     "name": "stdout",
     "output_type": "stream",
     "text": [
      "Here's the first shaped array: \n",
      "[[1 2]\n",
      " [3 4]\n",
      " [5 6]]\n",
      "Here's the second reshaped array: \n",
      "[[1 2]\n",
      " [3 4]\n",
      " [5 6]]\n",
      "These should be the same!\n"
     ]
    }
   ],
   "source": [
    "first_array = np.array([[1, 2, 3], [4, 5, 6]])\n",
    "first_array.shape = (3, 2) # reformats first_array to be a 3 x 2 matrix (started as 2 x 3)\n",
    "print(\"Here's the first shaped array: \")\n",
    "print(first_array)\n",
    "first_array.reshape(3, 2)\n",
    "print(\"Here's the second reshaped array: \")\n",
    "print(first_array)\n",
    "print(\"These should be the same!\")"
   ]
  },
  {
   "cell_type": "code",
   "execution_count": 8,
   "metadata": {},
   "outputs": [
    {
     "name": "stdout",
     "output_type": "stream",
     "text": [
      "These are the first 4 elements of the list :  [0, 1, 2, 3]\n",
      "These are the first 4 elements of the np array :  [0 1 2 3]\n",
      "The type of the numpy array is :  <class 'numpy.ndarray'>\n"
     ]
    }
   ],
   "source": [
    "range_list = list(range(10))\n",
    "# Interesting note here - range() in python3 returns an immutable range type \n",
    "range_nparray = np.arange(10)\n",
    "print(\"These are the first 4 elements of the list : \", range_list[0:4])\n",
    "print(\"These are the first 4 elements of the np array : \", range_nparray[0:4])\n",
    "print(\"The type of the numpy array is : \", type(range_nparray))\n",
    "# Hmm, interesting how the regular python list is a csv but not the numpy one..."
   ]
  },
  {
   "cell_type": "code",
   "execution_count": 13,
   "metadata": {},
   "outputs": [
    {
     "name": "stdout",
     "output_type": "stream",
     "text": [
      "[0 1 2 3 4 5 6 7 8 9]\n",
      "The dimensions of the np array are:  (10,)\n",
      "This means that the array is 10 long by 1 wide\n"
     ]
    }
   ],
   "source": [
    "# numpy 'ndarray' also supports matrix dimension analysis. For example:\n",
    "print(range_nparray)\n",
    "print(\"The dimensions of the np array are: \", range_nparray.shape)\n",
    "print(\"This means that the array is 10 long by 1 wide\")"
   ]
  },
  {
   "cell_type": "code",
   "execution_count": 15,
   "metadata": {},
   "outputs": [
    {
     "data": {
      "text/plain": [
       "(2, 3)"
      ]
     },
     "execution_count": 15,
     "metadata": {},
     "output_type": "execute_result"
    }
   ],
   "source": [
    "a = np.array([[1, 2, 3], [4, 5, 6]])\n",
    "a.shape"
   ]
  },
  {
   "cell_type": "code",
   "execution_count": 34,
   "metadata": {},
   "outputs": [
    {
     "data": {
      "text/plain": [
       "array([[0.3022592 , 0.82921426],\n",
       "       [0.86395007, 0.38426022]])"
      ]
     },
     "execution_count": 34,
     "metadata": {},
     "output_type": "execute_result"
    }
   ],
   "source": [
    "# Demonstrating more ways to create ndarrays\n",
    "zeros = np.zeros((2, 2))    # these take in tuples of dimensions - (num arrays, length of single array)\n",
    "ones = np.ones((3, 3))      # 3 arrays of length 3 that are filled with ones\n",
    "full = np.full((4, 2), 7)   # 4 arrays of length 2 that are filled with sevens\n",
    "identity = np.eye(4)        # a 4x4 identity matrix\n",
    "np.random.random((2, 2))    # 2 arrays of length 2 filled with random type double values"
   ]
  },
  {
   "cell_type": "code",
   "execution_count": 37,
   "metadata": {},
   "outputs": [
    {
     "name": "stdout",
     "output_type": "stream",
     "text": [
      "[[False False]\n",
      " [ True  True]\n",
      " [ True  True]]\n",
      "[3 4 5 6]\n"
     ]
    }
   ],
   "source": [
    "a = np.array([[1, 2], [3, 4], [5, 6]])\n",
    "print(a > 2) # operators on np arrays prints the values in the array that satisfy the predicate\n",
    "print(a[a > 2])"
   ]
  },
  {
   "cell_type": "code",
   "execution_count": 41,
   "metadata": {},
   "outputs": [
    {
     "name": "stdout",
     "output_type": "stream",
     "text": [
      "[[ 5  7]\n",
      " [ 9 11]]\n",
      "[[ 5  7]\n",
      " [ 9 11]]\n"
     ]
    }
   ],
   "source": [
    "x = np.array([[1, 2], [3, 4]])\n",
    "y = np.array([[4, 5], [6, 7]])\n",
    "print(x + y)\n",
    "print(np.add(x, y))"
   ]
  },
  {
   "cell_type": "markdown",
   "metadata": {},
   "source": [
    "### `pandas`\n",
    "Similar to `numpy`'s `ndarray`, `pandas` has an overarching data type called the `DataFrame`"
   ]
  },
  {
   "cell_type": "code",
   "execution_count": 19,
   "metadata": {},
   "outputs": [
    {
     "data": {
      "text/html": [
       "<div>\n",
       "<style scoped>\n",
       "    .dataframe tbody tr th:only-of-type {\n",
       "        vertical-align: middle;\n",
       "    }\n",
       "\n",
       "    .dataframe tbody tr th {\n",
       "        vertical-align: top;\n",
       "    }\n",
       "\n",
       "    .dataframe thead th {\n",
       "        text-align: right;\n",
       "    }\n",
       "</style>\n",
       "<table border=\"1\" class=\"dataframe\">\n",
       "  <thead>\n",
       "    <tr style=\"text-align: right;\">\n",
       "      <th></th>\n",
       "      <th>a</th>\n",
       "      <th>b</th>\n",
       "      <th>c</th>\n",
       "    </tr>\n",
       "  </thead>\n",
       "  <tbody>\n",
       "    <tr>\n",
       "      <th>1</th>\n",
       "      <td>1</td>\n",
       "      <td>2</td>\n",
       "      <td>3</td>\n",
       "    </tr>\n",
       "    <tr>\n",
       "      <th>2</th>\n",
       "      <td>4</td>\n",
       "      <td>5</td>\n",
       "      <td>6</td>\n",
       "    </tr>\n",
       "    <tr>\n",
       "      <th>3</th>\n",
       "      <td>7</td>\n",
       "      <td>8</td>\n",
       "      <td>9</td>\n",
       "    </tr>\n",
       "  </tbody>\n",
       "</table>\n",
       "</div>"
      ],
      "text/plain": [
       "   a  b  c\n",
       "1  1  2  3\n",
       "2  4  5  6\n",
       "3  7  8  9"
      ]
     },
     "execution_count": 19,
     "metadata": {},
     "output_type": "execute_result"
    }
   ],
   "source": [
    "df = pd.DataFrame({'a' : [1, 4, 7], \n",
    "                   'b' : [2, 5, 8],\n",
    "                   'c' : [3, 6, 9]}, \n",
    "                index = [1, 2, 3] \n",
    "                 )\n",
    "df"
   ]
  },
  {
   "cell_type": "code",
   "execution_count": 20,
   "metadata": {},
   "outputs": [
    {
     "data": {
      "text/html": [
       "<div>\n",
       "<style scoped>\n",
       "    .dataframe tbody tr th:only-of-type {\n",
       "        vertical-align: middle;\n",
       "    }\n",
       "\n",
       "    .dataframe tbody tr th {\n",
       "        vertical-align: top;\n",
       "    }\n",
       "\n",
       "    .dataframe thead th {\n",
       "        text-align: right;\n",
       "    }\n",
       "</style>\n",
       "<table border=\"1\" class=\"dataframe\">\n",
       "  <thead>\n",
       "    <tr style=\"text-align: right;\">\n",
       "      <th></th>\n",
       "      <th>variable</th>\n",
       "      <th>value</th>\n",
       "    </tr>\n",
       "  </thead>\n",
       "  <tbody>\n",
       "    <tr>\n",
       "      <th>0</th>\n",
       "      <td>a</td>\n",
       "      <td>1</td>\n",
       "    </tr>\n",
       "    <tr>\n",
       "      <th>1</th>\n",
       "      <td>a</td>\n",
       "      <td>4</td>\n",
       "    </tr>\n",
       "    <tr>\n",
       "      <th>2</th>\n",
       "      <td>a</td>\n",
       "      <td>7</td>\n",
       "    </tr>\n",
       "    <tr>\n",
       "      <th>3</th>\n",
       "      <td>b</td>\n",
       "      <td>2</td>\n",
       "    </tr>\n",
       "    <tr>\n",
       "      <th>4</th>\n",
       "      <td>b</td>\n",
       "      <td>5</td>\n",
       "    </tr>\n",
       "    <tr>\n",
       "      <th>5</th>\n",
       "      <td>b</td>\n",
       "      <td>8</td>\n",
       "    </tr>\n",
       "    <tr>\n",
       "      <th>6</th>\n",
       "      <td>c</td>\n",
       "      <td>3</td>\n",
       "    </tr>\n",
       "    <tr>\n",
       "      <th>7</th>\n",
       "      <td>c</td>\n",
       "      <td>6</td>\n",
       "    </tr>\n",
       "    <tr>\n",
       "      <th>8</th>\n",
       "      <td>c</td>\n",
       "      <td>9</td>\n",
       "    </tr>\n",
       "  </tbody>\n",
       "</table>\n",
       "</div>"
      ],
      "text/plain": [
       "  variable  value\n",
       "0        a      1\n",
       "1        a      4\n",
       "2        a      7\n",
       "3        b      2\n",
       "4        b      5\n",
       "5        b      8\n",
       "6        c      3\n",
       "7        c      6\n",
       "8        c      9"
      ]
     },
     "execution_count": 20,
     "metadata": {},
     "output_type": "execute_result"
    }
   ],
   "source": [
    "df.melt()"
   ]
  },
  {
   "cell_type": "markdown",
   "metadata": {},
   "source": [
    "### `matplotlib`"
   ]
  },
  {
   "cell_type": "code",
   "execution_count": 12,
   "metadata": {},
   "outputs": [
    {
     "data": {
      "image/png": "[encoded data removed]",
      "text/plain": [
       "<Figure size 432x288 with 1 Axes>"
      ]
     },
     "metadata": {
      "needs_background": "light"
     },
     "output_type": "display_data"
    }
   ],
   "source": [
    "# Testing functionality of matplotlib\n",
    "\n",
    "x = np.linspace(0, 5, num = 6)\n",
    "plt.plot(x, x, label = 'linear')\n",
    "plt.plot(x, x**2, label = 'quadratic')\n",
    "plt.plot(x, x**3, label = 'cubic')\n",
    "plt.title('Simple Test')\n",
    "plt.xlabel('x axis')\n",
    "plt.ylabel('y axis')\n",
    "plt.legend()\n",
    "plt.show()"
   ]
  },
  {
   "cell_type": "code",
   "execution_count": null,
   "metadata": {},
   "outputs": [],
   "source": []
  }
 ],
 "metadata": {
  "kernelspec": {
   "display_name": "Python 3",
   "language": "python",
   "name": "python3"
  },
  "language_info": {
   "codemirror_mode": {
    "name": "ipython",
    "version": 3
   },
   "file_extension": ".py",
   "mimetype": "text/x-python",
   "name": "python",
   "nbconvert_exporter": "python",
   "pygments_lexer": "ipython3",
   "version": "3.7.3"
  }
 },
 "nbformat": 4,
 "nbformat_minor": 2
}
